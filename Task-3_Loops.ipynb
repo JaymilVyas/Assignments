{
 "cells": [
  {
   "cell_type": "markdown",
   "id": "ffda8958",
   "metadata": {},
   "source": [
    "q1 :\n",
    "ineruon \n",
    "ineruon ineruon \n",
    "ineruon ineruon ineruon\n",
    "ineruon ineruon ineruon ineruon\n",
    "\n",
    "q2 - \n",
    "\n",
    "          ineruon\n",
    "    ineruon      ineruon\n",
    "ineruon\t\tineruon \tineruon\n",
    "\tineruon\t\t ineruon\n",
    "\t\t  ineruon\n",
    "\n",
    "l = [[1,2,3,4] , (2,3,4,5,6) , (3,4,5,6,7) , set([23,4,5,45,4,4,5,45,45,4,5]) , {'k1' :\"sudh\" , \"k2\" : \"ineuron\",\"k3\":\n",
    "            \"kumar\" , 3:6 , 7:8} , [\"ineuron\" , \"data science \"]]\n",
    "\n",
    "q3 : Try to extract all the list entity \n",
    "q4 : Try to extract all the dict enteties\n",
    "q5 : Try to extract all the tuples entities\n",
    "q6 : Try to extract all the numerical data it may b a part of dict key and values \n",
    "q7 : Try to give summation of all the numeric data \n",
    "q8 : Try to filter out all the odd values out all numeric data which is a part of a list \n",
    "q9 : Try to extract \"ineruon\" out of this data\n",
    "q10 :Try to find out a number of occurances of all the data \n",
    "q11 : Try to find out number of keys in dict element\n",
    "q12 : Try to filter out all the string data \n",
    "q13 : Try to Find  out alphanum in data\n",
    "q14 : Try to find out multiplication of all numeric value in  the individual collection inside dataset \n",
    "q15 : Try to unwrape all the collection inside collection and create a flat list \n",
    "    \n",
    "    \n",
    "before 29th may 2022 3 PM IST you have to send an answer to me or to shivan \n",
    "sudhanshu@ineuron.ai\n",
    "shivan@ineuron.ai"
   ]
  },
  {
   "cell_type": "markdown",
   "id": "8d8f0e66",
   "metadata": {},
   "source": [
    "# Q1:"
   ]
  },
  {
   "cell_type": "code",
   "execution_count": 3,
   "id": "580160d1",
   "metadata": {
    "scrolled": true
   },
   "outputs": [
    {
     "name": "stdout",
     "output_type": "stream",
     "text": [
      "ineuron \n",
      "ineuron ineuron \n",
      "ineuron ineuron ineuron \n",
      "ineuron ineuron ineuron ineuron \n"
     ]
    }
   ],
   "source": [
    "n=4\n",
    "for i in range(1,n+1):\n",
    "    for j in range(i):\n",
    "        print(\"ineuron\",end=\" \")\n",
    "    print()"
   ]
  },
  {
   "cell_type": "markdown",
   "id": "18c55aa1",
   "metadata": {},
   "source": [
    "# Q2"
   ]
  },
  {
   "cell_type": "code",
   "execution_count": 4,
   "id": "0787c2ad",
   "metadata": {},
   "outputs": [
    {
     "name": "stdout",
     "output_type": "stream",
     "text": [
      "                ineuron         \n",
      "        ineuron         ineuron         \n",
      "ineuron         ineuron         ineuron         \n",
      "        ineuron         ineuron         \n",
      "                ineuron         \n"
     ]
    }
   ],
   "source": [
    "s=\"ineuron\"\n",
    "n=6\n",
    "for i in range(0,n-3):\n",
    "    for a in range(i,n-4):\n",
    "        print(\" \"*len(s),end=\" \")\n",
    "    for b in range(0,i+1):\n",
    "        print(s,\" \"*len(s),end=\" \")\n",
    "    print()\n",
    "for i in range(0,n-4):\n",
    "    for c in range(0,i+1):\n",
    "        print(\" \"*len(s),end=\" \")\n",
    "    for d in range(n-4,i,-1):\n",
    "        print(s,\" \"*len(s),end=\" \")\n",
    "    print()"
   ]
  },
  {
   "cell_type": "code",
   "execution_count": 1,
   "id": "4d3f9f01",
   "metadata": {},
   "outputs": [],
   "source": [
    "l=[[1,2,3,4],(2,3,4,5,6),(3,4,5,6,7),set([23,4,5,45,4,4,5,45,45,4,5]),{'k1':\"sudh\",\"k2\":\"ineuron\",\"k3\":\"kumar\",3:6,7:8},[\"ineuron\",\"data science\"]]"
   ]
  },
  {
   "cell_type": "code",
   "execution_count": 139,
   "id": "f08d642b",
   "metadata": {
    "scrolled": true
   },
   "outputs": [
    {
     "data": {
      "text/plain": [
       "[[1, 2, 3, 4],\n",
       " (2, 3, 4, 5, 6),\n",
       " (3, 4, 5, 6, 7),\n",
       " {4, 5, 23, 45},\n",
       " {'k1': 'sudh', 'k2': 'ineuron', 'k3': 'kumar', 3: 6, 7: 8},\n",
       " ['ineuron', 'data science']]"
      ]
     },
     "execution_count": 139,
     "metadata": {},
     "output_type": "execute_result"
    }
   ],
   "source": [
    "l"
   ]
  },
  {
   "cell_type": "markdown",
   "id": "f49ebeae",
   "metadata": {},
   "source": [
    "# Q3 : Try to extract all the list entity "
   ]
  },
  {
   "cell_type": "code",
   "execution_count": 28,
   "id": "01c8a6a8",
   "metadata": {
    "scrolled": true
   },
   "outputs": [
    {
     "name": "stdout",
     "output_type": "stream",
     "text": [
      "[1, 2, 3, 4]\n",
      "['ineuron', 'data science']\n"
     ]
    }
   ],
   "source": [
    "for i in tuple(l):\n",
    "    if type(i)==list:\n",
    "        print(i)"
   ]
  },
  {
   "cell_type": "markdown",
   "id": "d8551532",
   "metadata": {},
   "source": [
    "# Q4: Try to extract all the dict enteties"
   ]
  },
  {
   "cell_type": "code",
   "execution_count": 27,
   "id": "3e4a7973",
   "metadata": {
    "scrolled": false
   },
   "outputs": [
    {
     "name": "stdout",
     "output_type": "stream",
     "text": [
      "{'k1': 'sudh', 'k2': 'ineuron', 'k3': 'kumar', 3: 6, 7: 8}\n"
     ]
    }
   ],
   "source": [
    "for i in tuple(l):\n",
    "    if type(i)==dict:\n",
    "        print(i)"
   ]
  },
  {
   "cell_type": "markdown",
   "id": "305de750",
   "metadata": {},
   "source": [
    "# Q5: Try to extract all the tuples entities"
   ]
  },
  {
   "cell_type": "code",
   "execution_count": 26,
   "id": "620b1bae",
   "metadata": {
    "scrolled": true
   },
   "outputs": [
    {
     "name": "stdout",
     "output_type": "stream",
     "text": [
      "(2, 3, 4, 5, 6)\n",
      "(3, 4, 5, 6, 7)\n"
     ]
    }
   ],
   "source": [
    "for i in tuple(l):\n",
    "    if type(i)==tuple:\n",
    "        print(i)"
   ]
  },
  {
   "cell_type": "markdown",
   "id": "c39581b3",
   "metadata": {},
   "source": [
    "# Q6: Try to extract all the numerical data it may b a part of dict key and values "
   ]
  },
  {
   "cell_type": "code",
   "execution_count": 9,
   "id": "26bc5590",
   "metadata": {
    "scrolled": true
   },
   "outputs": [
    {
     "name": "stdout",
     "output_type": "stream",
     "text": [
      "1\n",
      "2\n",
      "3\n",
      "4\n",
      "2\n",
      "3\n",
      "4\n",
      "5\n",
      "6\n",
      "3\n",
      "4\n",
      "5\n",
      "6\n",
      "7\n",
      "45\n",
      "4\n",
      "5\n",
      "23\n",
      "3\n",
      "6\n",
      "7\n",
      "8\n"
     ]
    }
   ],
   "source": [
    "for i in tuple(l) :\n",
    "    if type(i) == list or type(i) == tuple :\n",
    "        for j in i :\n",
    "            if type(j) == int :\n",
    "                print(j)\n",
    "    if type(i) == set:\n",
    "        for j in i:\n",
    "            if type(j) ==int:\n",
    "                print(j)\n",
    "    if type(i) == dict:\n",
    "        for v,k in i.items():\n",
    "            if type(v) ==int or type(k)==int:\n",
    "                print(v)\n",
    "                print(k)"
   ]
  },
  {
   "cell_type": "markdown",
   "id": "c42cb823",
   "metadata": {},
   "source": [
    "# Q7: Try to give summation of all the numeric data "
   ]
  },
  {
   "cell_type": "code",
   "execution_count": 10,
   "id": "62806ea1",
   "metadata": {},
   "outputs": [
    {
     "data": {
      "text/plain": [
       "156"
      ]
     },
     "execution_count": 10,
     "metadata": {},
     "output_type": "execute_result"
    }
   ],
   "source": [
    "l1=[]\n",
    "for i in tuple(l) :\n",
    "    if type(i) == list or type(i) == tuple :\n",
    "        for j in i :\n",
    "            if type(j) == int :\n",
    "                l1.append(j)\n",
    "    if type(i) == set:\n",
    "        for j in i:\n",
    "            if type(j) ==int:\n",
    "                l1.append(j)\n",
    "    if type(i) == dict:\n",
    "        for v,k in i.items():\n",
    "            if type(v) ==int or type(k)==int:\n",
    "                l1.append(v)\n",
    "                l1.append(k)\n",
    "sum(l1)"
   ]
  },
  {
   "cell_type": "code",
   "execution_count": 13,
   "id": "8d3780a0",
   "metadata": {
    "scrolled": false
   },
   "outputs": [
    {
     "data": {
      "text/plain": [
       "[1, 2, 3, 4, 2, 3, 4, 5, 6, 3, 4, 5, 6, 7, 45, 4, 5, 23, 3, 6, 7, 8]"
      ]
     },
     "execution_count": 13,
     "metadata": {},
     "output_type": "execute_result"
    }
   ],
   "source": [
    "l1"
   ]
  },
  {
   "cell_type": "markdown",
   "id": "b73d3c91",
   "metadata": {},
   "source": [
    "# Q8: Try to filter out all the odd values out all numeric data which is a part of a list"
   ]
  },
  {
   "cell_type": "code",
   "execution_count": 95,
   "id": "e76ddeb1",
   "metadata": {},
   "outputs": [
    {
     "name": "stdout",
     "output_type": "stream",
     "text": [
      "1\n",
      "3\n"
     ]
    }
   ],
   "source": [
    "for i in tuple(l) :\n",
    "    if type(i) == list:\n",
    "        for j in i :\n",
    "            if type(j) == int:\n",
    "                if (j%2)==1:\n",
    "                    print(j)"
   ]
  },
  {
   "cell_type": "markdown",
   "id": "60dcd6e0",
   "metadata": {},
   "source": [
    "# Q9: Try to extract \"ineruon\" out of this data"
   ]
  },
  {
   "cell_type": "code",
   "execution_count": 39,
   "id": "26aa0efa",
   "metadata": {},
   "outputs": [
    {
     "name": "stdout",
     "output_type": "stream",
     "text": [
      "ineuron\n",
      "ineuron\n"
     ]
    }
   ],
   "source": [
    "for i in tuple(l):\n",
    "    if type(i) == list or type(i) == tuple :\n",
    "        for j in i:\n",
    "            if j=='ineuron':\n",
    "                print(j)\n",
    "    if type(i) == set:\n",
    "        for j in i:\n",
    "            if j=='ineuron':\n",
    "                print(j)\n",
    "    if type(i) == dict:\n",
    "        for v,k in i.items():\n",
    "            if v=='ineuron':\n",
    "                print(v)\n",
    "            if k=='ineuron':\n",
    "                print(k)"
   ]
  },
  {
   "cell_type": "markdown",
   "id": "2445fcfa",
   "metadata": {},
   "source": [
    "# Q10:Try to find out a number of occurances of all the data"
   ]
  },
  {
   "cell_type": "code",
   "execution_count": 111,
   "id": "6befdf54",
   "metadata": {},
   "outputs": [
    {
     "name": "stdout",
     "output_type": "stream",
     "text": [
      "1 : 1\n",
      "2 : 2\n",
      "3 : 4\n",
      "4 : 4\n",
      "5 : 3\n",
      "6 : 3\n",
      "7 : 2\n",
      "k2 : 1\n",
      "ineuron : 2\n",
      "k3 : 1\n",
      "8 : 1\n",
      "kumar : 1\n",
      "45 : 1\n",
      "sudh : 1\n",
      "data science : 1\n",
      "k1 : 1\n",
      "23 : 1\n"
     ]
    }
   ],
   "source": [
    "l1=[]\n",
    "for i in tuple(l):\n",
    "    if type(i)==list or type(i)==tuple or type(i)==set:\n",
    "        for j in i:\n",
    "            l1.append(j)\n",
    "    if type(i)==dict:\n",
    "        for j,k in i.items():\n",
    "            l1.append(j)\n",
    "            l1.append(k)\n",
    "for i in set(l1):\n",
    "    print(i,':',l1.count(i))"
   ]
  },
  {
   "cell_type": "markdown",
   "id": "ddbd66de",
   "metadata": {},
   "source": [
    "# Q11: Try to find out number of keys in dict element"
   ]
  },
  {
   "cell_type": "code",
   "execution_count": 46,
   "id": "c45dcc13",
   "metadata": {},
   "outputs": [
    {
     "name": "stdout",
     "output_type": "stream",
     "text": [
      "k1\n",
      "k2\n",
      "k3\n",
      "3\n",
      "7\n"
     ]
    }
   ],
   "source": [
    "for i in tuple(l):\n",
    "    if type(i)==dict:\n",
    "        for j,k in i.items():\n",
    "            print(j)"
   ]
  },
  {
   "cell_type": "markdown",
   "id": "f031447e",
   "metadata": {},
   "source": [
    "# Q12: Try to filter out all the string data"
   ]
  },
  {
   "cell_type": "code",
   "execution_count": 8,
   "id": "950c6550",
   "metadata": {
    "scrolled": true
   },
   "outputs": [
    {
     "name": "stdout",
     "output_type": "stream",
     "text": [
      "k1\n",
      "k2\n",
      "k3\n",
      "ineuron\n",
      "data science\n"
     ]
    }
   ],
   "source": [
    "for i in tuple(l):\n",
    "    for j in i:\n",
    "        if type(j)==str:\n",
    "            print(j)"
   ]
  },
  {
   "cell_type": "markdown",
   "id": "b4d6701e",
   "metadata": {},
   "source": [
    "# Q13: Try to Find  out alphanum in data"
   ]
  },
  {
   "cell_type": "code",
   "execution_count": 30,
   "id": "34e41d18",
   "metadata": {},
   "outputs": [
    {
     "name": "stdout",
     "output_type": "stream",
     "text": [
      "1\n",
      "2\n",
      "3\n",
      "4\n",
      "2\n",
      "3\n",
      "4\n",
      "5\n",
      "6\n",
      "3\n",
      "4\n",
      "5\n",
      "6\n",
      "7\n",
      "4\n",
      "5\n",
      "4\n",
      "5\n",
      "2\n",
      "3\n",
      "k\n",
      "1\n",
      "s\n",
      "u\n",
      "d\n",
      "h\n",
      "k\n",
      "2\n",
      "i\n",
      "n\n",
      "e\n",
      "u\n",
      "r\n",
      "o\n",
      "n\n",
      "k\n",
      "3\n",
      "k\n",
      "u\n",
      "m\n",
      "a\n",
      "r\n",
      "3\n",
      "6\n",
      "7\n",
      "8\n",
      "i\n",
      "n\n",
      "e\n",
      "u\n",
      "r\n",
      "o\n",
      "n\n",
      "d\n",
      "a\n",
      "t\n",
      "a\n",
      "s\n",
      "c\n",
      "i\n",
      "e\n",
      "n\n",
      "c\n",
      "e\n"
     ]
    }
   ],
   "source": [
    "for i in str(l):\n",
    "    for j in i:\n",
    "        if j.isalnum()==True:\n",
    "            print(j)"
   ]
  },
  {
   "cell_type": "markdown",
   "id": "35b1f3ec",
   "metadata": {},
   "source": [
    "# Q14: Try to find out multiplication of all numeric value in  the individual collection inside data"
   ]
  },
  {
   "cell_type": "code",
   "execution_count": 176,
   "id": "eb1ebcbe",
   "metadata": {
    "scrolled": true
   },
   "outputs": [
    {
     "ename": "SyntaxError",
     "evalue": "invalid syntax (2588087665.py, line 10)",
     "output_type": "error",
     "traceback": [
      "\u001b[1;36m  Input \u001b[1;32mIn [176]\u001b[1;36m\u001b[0m\n\u001b[1;33m    print(a*=i)\u001b[0m\n\u001b[1;37m           ^\u001b[0m\n\u001b[1;31mSyntaxError\u001b[0m\u001b[1;31m:\u001b[0m invalid syntax\n"
     ]
    }
   ],
   "source": [
    "print(l)\n",
    "l4=[]\n",
    "a=1\n",
    "for i in l:\n",
    "    if type(i)==list:\n",
    "        for j in i:\n",
    "            if type(j)==int:\n",
    "                l4.append(j)\n",
    "for i in l4:\n",
    "    a*=i"
   ]
  },
  {
   "cell_type": "markdown",
   "id": "5b11ea81",
   "metadata": {},
   "source": [
    "# Q15: Try to unwrape all the collection inside collection and create a flat list"
   ]
  },
  {
   "cell_type": "code",
   "execution_count": 89,
   "id": "673b3bcf",
   "metadata": {},
   "outputs": [
    {
     "data": {
      "text/plain": [
       "[1,\n",
       " 2,\n",
       " 3,\n",
       " 4,\n",
       " 2,\n",
       " 3,\n",
       " 4,\n",
       " 5,\n",
       " 6,\n",
       " 3,\n",
       " 4,\n",
       " 5,\n",
       " 6,\n",
       " 7,\n",
       " 45,\n",
       " 4,\n",
       " 5,\n",
       " 23,\n",
       " 'k1',\n",
       " 'sudh',\n",
       " 'k2',\n",
       " 'ineuron',\n",
       " 'k3',\n",
       " 'kumar',\n",
       " 3,\n",
       " 6,\n",
       " 7,\n",
       " 8,\n",
       " 'ineuron',\n",
       " 'data science']"
      ]
     },
     "execution_count": 89,
     "metadata": {},
     "output_type": "execute_result"
    }
   ],
   "source": [
    "l1=[]\n",
    "for i in tuple(l):\n",
    "    if type(i)==list or type(i)==tuple or type(i)==set:\n",
    "        for j in i:\n",
    "            l1.append(j)\n",
    "    if type(i)==dict:\n",
    "        for j,k in i.items():\n",
    "            l1.append(j)\n",
    "            l1.append(k)\n",
    "l1"
   ]
  }
 ],
 "metadata": {
  "kernelspec": {
   "display_name": "Python 3 (ipykernel)",
   "language": "python",
   "name": "python3"
  },
  "language_info": {
   "codemirror_mode": {
    "name": "ipython",
    "version": 3
   },
   "file_extension": ".py",
   "mimetype": "text/x-python",
   "name": "python",
   "nbconvert_exporter": "python",
   "pygments_lexer": "ipython3",
   "version": "3.9.12"
  }
 },
 "nbformat": 4,
 "nbformat_minor": 5
}
