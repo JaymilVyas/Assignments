{
 "cells": [
  {
   "cell_type": "markdown",
   "id": "e0db03f5",
   "metadata": {},
   "source": [
    "# Q1:"
   ]
  },
  {
   "cell_type": "code",
   "execution_count": 1,
   "id": "700422aa",
   "metadata": {},
   "outputs": [
    {
     "name": "stdout",
     "output_type": "stream",
     "text": [
      "* \n",
      "* * \n",
      "* * * \n",
      "* * * * \n",
      "* * * * * \n",
      "* * * * * * \n",
      "* * * * * * * \n",
      "* * * * * * * * \n",
      "* * * * * * * * * \n"
     ]
    }
   ],
   "source": [
    "a=0\n",
    "b=9\n",
    "while a<b:\n",
    "    a=a+1\n",
    "    print('* '*a)"
   ]
  },
  {
   "cell_type": "markdown",
   "id": "0a7c2cbb",
   "metadata": {},
   "source": [
    "# Q2:"
   ]
  },
  {
   "cell_type": "code",
   "execution_count": 2,
   "id": "deb742d9",
   "metadata": {
    "scrolled": true
   },
   "outputs": [
    {
     "name": "stdout",
     "output_type": "stream",
     "text": [
      "\n",
      " A\n",
      " B H\n",
      " C I N\n",
      " D J O S\n",
      " E K P T W\n",
      " F L Q U X Z\n",
      " G M R V Y\n"
     ]
    }
   ],
   "source": [
    "x=0\n",
    "while x<8:\n",
    "    content=\"\"\n",
    "    y=0\n",
    "    while y<x:\n",
    "        z=0\n",
    "        sum=0\n",
    "        while z<y:\n",
    "            sum+=6-z\n",
    "            z+=1\n",
    "        if (x+64+sum)<=(64+26):\n",
    "            content+=\" \"+chr(x+64+sum)\n",
    "        y+=1\n",
    "    print(content)\n",
    "    x+=1"
   ]
  },
  {
   "cell_type": "code",
   "execution_count": 3,
   "id": "dd958c6d",
   "metadata": {},
   "outputs": [
    {
     "name": "stdout",
     "output_type": "stream",
     "text": [
      "A \n",
      "B H \n",
      "C I N \n",
      "D J O S \n",
      "E K P T W \n",
      "F L Q U X Z \n",
      "G M R V Y \n"
     ]
    }
   ],
   "source": [
    "i=0\n",
    "while i<7:\n",
    "    c=65+i\n",
    "    j=0\n",
    "    while j<(i+1):\n",
    "        if c==91:\n",
    "            break\n",
    "        print(chr(c),end=\" \")\n",
    "        c=c+6-j\n",
    "        j+=1\n",
    "    i+=1\n",
    "    print()"
   ]
  },
  {
   "cell_type": "markdown",
   "id": "e362839b",
   "metadata": {},
   "source": [
    "# Q3: Try to print all the number divisible by 3 in between a range of 40 - 400"
   ]
  },
  {
   "cell_type": "code",
   "execution_count": 11,
   "id": "385a5c25",
   "metadata": {},
   "outputs": [
    {
     "name": "stdout",
     "output_type": "stream",
     "text": [
      "42\n",
      "45\n",
      "48\n",
      "51\n",
      "54\n",
      "57\n",
      "60\n",
      "63\n",
      "66\n",
      "69\n",
      "72\n",
      "75\n",
      "78\n",
      "81\n",
      "84\n",
      "87\n",
      "90\n",
      "93\n",
      "96\n",
      "99\n",
      "102\n",
      "105\n",
      "108\n",
      "111\n",
      "114\n",
      "117\n",
      "120\n",
      "123\n",
      "126\n",
      "129\n",
      "132\n",
      "135\n",
      "138\n",
      "141\n",
      "144\n",
      "147\n",
      "150\n",
      "153\n",
      "156\n",
      "159\n",
      "162\n",
      "165\n",
      "168\n",
      "171\n",
      "174\n",
      "177\n",
      "180\n",
      "183\n",
      "186\n",
      "189\n",
      "192\n",
      "195\n",
      "198\n",
      "201\n",
      "204\n",
      "207\n",
      "210\n",
      "213\n",
      "216\n",
      "219\n",
      "222\n",
      "225\n",
      "228\n",
      "231\n",
      "234\n",
      "237\n",
      "240\n",
      "243\n",
      "246\n",
      "249\n",
      "252\n",
      "255\n",
      "258\n",
      "261\n",
      "264\n",
      "267\n",
      "270\n",
      "273\n",
      "276\n",
      "279\n",
      "282\n",
      "285\n",
      "288\n",
      "291\n",
      "294\n",
      "297\n",
      "300\n",
      "303\n",
      "306\n",
      "309\n",
      "312\n",
      "315\n",
      "318\n",
      "321\n",
      "324\n",
      "327\n",
      "330\n",
      "333\n",
      "336\n",
      "339\n",
      "342\n",
      "345\n",
      "348\n",
      "351\n",
      "354\n",
      "357\n",
      "360\n",
      "363\n",
      "366\n",
      "369\n",
      "372\n",
      "375\n",
      "378\n",
      "381\n",
      "384\n",
      "387\n",
      "390\n",
      "393\n",
      "396\n",
      "399\n"
     ]
    }
   ],
   "source": [
    "a=40\n",
    "b=400\n",
    "while a<=b:\n",
    "    if a%3==0:\n",
    "        print(a)\n",
    "    a=a+1"
   ]
  },
  {
   "cell_type": "markdown",
   "id": "c61a987e",
   "metadata": {},
   "source": [
    "# Q4: Try to filter out all the vowels form below text by using while loop :"
   ]
  },
  {
   "cell_type": "code",
   "execution_count": 4,
   "id": "053fe417",
   "metadata": {},
   "outputs": [
    {
     "name": "stdout",
     "output_type": "stream",
     "text": [
      "o\n",
      "i\n",
      "a\n",
      "i\n",
      "e\n",
      "e\n",
      "i\n",
      "e\n",
      "e\n",
      "e\n",
      "e\n",
      "e\n",
      "a\n",
      "u\n",
      "o\n",
      "e\n",
      "o\n",
      "a\n",
      "i\n",
      "a\n",
      "u\n",
      "a\n",
      "e\n",
      "i\n",
      "e\n",
      "i\n",
      "i\n",
      "o\n",
      "o\n",
      "e\n",
      "a\n",
      "i\n",
      "e\n",
      "o\n",
      "e\n",
      "e\n",
      "a\n",
      "a\n",
      "i\n",
      "i\n",
      "i\n",
      "e\n",
      "u\n",
      "e\n",
      "o\n",
      "i\n",
      "i\n",
      "i\n",
      "a\n",
      "i\n",
      "e\n",
      "a\n",
      "i\n",
      "o\n",
      "o\n",
      "i\n",
      "a\n",
      "i\n",
      "a\n",
      "e\n",
      "a\n",
      "a\n",
      "a\n",
      "e\n",
      "o\n",
      "e\n",
      "e\n",
      "i\n",
      "u\n",
      "o\n",
      "u\n",
      "i\n",
      "e\n",
      "o\n",
      "a\n",
      "i\n",
      "a\n",
      "a\n",
      "i\n",
      "i\n",
      "u\n",
      "i\n",
      "u\n",
      "u\n",
      "e\n",
      "a\n",
      "i\n",
      "u\n",
      "a\n",
      "o\n",
      "e\n",
      "u\n",
      "a\n",
      "o\n",
      "e\n",
      "o\n",
      "i\n",
      "e\n",
      "e\n",
      "a\n",
      "u\n",
      "i\n",
      "o\n",
      "a\n",
      "o\n",
      "a\n",
      "i\n",
      "i\n",
      "i\n",
      "o\n",
      "e\n",
      "e\n",
      "i\n",
      "e\n",
      "a\n",
      "a\n",
      "a\n",
      "e\n",
      "i\n",
      "e\n",
      "i\n",
      "u\n",
      "e\n",
      "a\n",
      "u\n",
      "a\n",
      "e\n",
      "u\n",
      "e\n",
      "o\n",
      "i\n",
      "o\n",
      "e\n",
      "e\n",
      "i\n",
      "e\n",
      "a\n",
      "a\n",
      "i\n",
      "a\n",
      "u\n",
      "i\n",
      "o\n",
      "a\n",
      "o\n",
      "u\n",
      "e\n",
      "a\n",
      "o\n",
      "i\n",
      "o\n",
      "o\n",
      "i\n",
      "e\n",
      "a\n",
      "e\n",
      "a\n",
      "a\n",
      "u\n",
      "e\n",
      "o\n",
      "o\n",
      "e\n",
      "a\n",
      "o\n",
      "a\n",
      "i\n",
      "a\n",
      "u\n",
      "a\n",
      "e\n",
      "a\n",
      "i\n",
      "e\n",
      "e\n",
      "a\n",
      "e\n",
      "i\n",
      "i\n",
      "a\n",
      "o\n",
      "o\n",
      "a\n",
      "e\n",
      "e\n",
      "a\n",
      "e\n",
      "i\n",
      "a\n",
      "i\n",
      "o\n",
      "u\n",
      "e\n",
      "e\n",
      "e\n",
      "a\n",
      "u\n",
      "e\n",
      "u\n",
      "a\n",
      "i\n",
      "o\n",
      "e\n",
      "e\n",
      "i\n",
      "o\n",
      "e\n",
      "e\n",
      "e\n",
      "i\n",
      "a\n",
      "a\n",
      "e\n",
      "o\n",
      "e\n",
      "i\n",
      "o\n",
      "e\n",
      "e\n",
      "e\n",
      "e\n",
      "o\n",
      "u\n",
      "i\n",
      "a\n",
      "u\n",
      "i\n",
      "o\n",
      "e\n",
      "u\n",
      "o\n",
      "o\n",
      "e\n",
      "e\n",
      "a\n",
      "e\n",
      "i\n",
      "a\n",
      "a\n",
      "a\n",
      "o\n",
      "e\n",
      "i\n",
      "i\n",
      "o\n",
      "a\n",
      "i\n",
      "o\n",
      "o\n",
      "e\n",
      "e\n",
      "a\n",
      "a\n",
      "o\n",
      "a\n",
      "i\n",
      "e\n",
      "i\n",
      "e\n",
      "a\n",
      "i\n",
      "e\n",
      "e\n",
      "i\n",
      "o\n",
      "o\n",
      "a\n",
      "i\n",
      "o\n",
      "i\n",
      "u\n",
      "e\n",
      "i\n",
      "e\n",
      "i\n",
      "o\n",
      "i\n",
      "o\n",
      "o\n",
      "i\n",
      "e\n",
      "a\n",
      "a\n",
      "o\n",
      "e\n",
      "o\n",
      "e\n",
      "o\n",
      "o\n",
      "u\n",
      "a\n",
      "o\n",
      "a\n",
      "i\n",
      "a\n",
      "u\n",
      "a\n",
      "e\n"
     ]
    }
   ],
   "source": [
    "s= \"\"\"Python is a high-level, interpreted, general-purpose programming language. Its design philosophy emphasizes code readability with the use of significant indentation.[32]\n",
    "\n",
    "Python is dynamically-typed and garbage-collected. It supports multiple programming paradigms, including structured (particularly procedural), object-oriented and functional programming. It is often described as a \"batteries included\" language due to its comprehensive standard library.[33][34]\n",
    "\n",
    "Guido van Rossum began working on Python in the late 1980s as a successor to the ABC programming language and first released it in 1991 as Python 0.9.0.[35] Python 2.0 was released in 2000 and introduced new features such as list comprehensions, cycle-detecting garbage collection, reference counting, and Unicode support. Python 3.0, released in 2008, was a major revision that is not completely backward-compatible with earlier versions. Python 2 was discontinued with version 2.7.18 in 2020.[36]\n",
    "\n",
    "Python consistently ranks as one of the most popular programming languagesc\"\"\"\n",
    "i=0\n",
    "v=\"aeiou\"\n",
    "s=s.lower()\n",
    "while i<len(s):\n",
    "    if s[i] in v:\n",
    "        print(s[i])\n",
    "    i=i+1"
   ]
  },
  {
   "cell_type": "code",
   "execution_count": null,
   "id": "96c73657",
   "metadata": {},
   "outputs": [],
   "source": [
    "i=0\n",
    "while i<=1000:\n",
    "    if i%2==1:\n",
    "        print(i)\n",
    "    i=i+1"
   ]
  },
  {
   "cell_type": "code",
   "execution_count": 1,
   "id": "a7dc531e",
   "metadata": {},
   "outputs": [
    {
     "data": {
      "text/plain": [
       "datetime.time(17, 51, 17, 79753)"
      ]
     },
     "execution_count": 1,
     "metadata": {},
     "output_type": "execute_result"
    }
   ],
   "source": [
    "import datetime\n",
    "datetime.datetime.now().time()"
   ]
  },
  {
   "cell_type": "code",
   "execution_count": 2,
   "id": "3145e3d9",
   "metadata": {},
   "outputs": [
    {
     "data": {
      "text/plain": [
       "datetime.date(2022, 6, 4)"
      ]
     },
     "execution_count": 2,
     "metadata": {},
     "output_type": "execute_result"
    }
   ],
   "source": [
    "import datetime\n",
    "datetime.date.today()"
   ]
  },
  {
   "cell_type": "code",
   "execution_count": 5,
   "id": "dd628699",
   "metadata": {},
   "outputs": [
    {
     "name": "stdout",
     "output_type": "stream",
     "text": [
      "Requirement already satisfied: winapps in c:\\users\\jaymil\\anaconda3\\lib\\site-packages (0.2.0)\n",
      "Requirement already satisfied: plumbum<2.0,>=1.6 in c:\\users\\jaymil\\anaconda3\\lib\\site-packages (from winapps) (1.7.2)\n",
      "Requirement already satisfied: pywin32 in c:\\users\\jaymil\\anaconda3\\lib\\site-packages (from plumbum<2.0,>=1.6->winapps) (302)\n"
     ]
    }
   ],
   "source": [
    "!pip install winapps"
   ]
  },
  {
   "cell_type": "code",
   "execution_count": 6,
   "id": "8737eed1",
   "metadata": {},
   "outputs": [
    {
     "data": {
      "text/plain": [
       "[InstalledApplication(name='Microsoft Office Home and Student 2021 - en-us', version='16.0.15225.20204', install_date=None, install_location=WindowsPath('C:/Program Files/Microsoft Office'), install_source=None, modify_path='\"C:\\\\Program Files\\\\Common Files\\\\Microsoft Shared\\\\ClickToRun\\\\OfficeClickToRun.exe\" scenario=repair platform=x64 culture=en-us', publisher='Microsoft Corporation', uninstall_string='\"C:\\\\Program Files\\\\Common Files\\\\Microsoft Shared\\\\ClickToRun\\\\OfficeClickToRun.exe\" scenario=install scenariosubtype=ARP sourcetype=None productstoremove=HomeStudent2021Retail.16_en-us_x-none culture=en-us version.16=16.0'),\n",
       " InstalledApplication(name='Microsoft OneDrive', version='22.099.0508.0001', install_date=None, install_location=None, install_source=None, modify_path=None, publisher='Microsoft Corporation', uninstall_string='C:\\\\Program Files\\\\Microsoft OneDrive\\\\22.099.0508.0001\\\\OneDriveSetup.exe  /uninstall  /allusers '),\n",
       " InstalledApplication(name='Microsoft OneNote - en-us', version='16.0.15225.20204', install_date=None, install_location=WindowsPath('C:/Program Files/Microsoft Office'), install_source=None, modify_path='\"C:\\\\Program Files\\\\Common Files\\\\Microsoft Shared\\\\ClickToRun\\\\OfficeClickToRun.exe\" scenario=repair platform=x64 culture=en-us', publisher='Microsoft Corporation', uninstall_string='\"C:\\\\Program Files\\\\Common Files\\\\Microsoft Shared\\\\ClickToRun\\\\OfficeClickToRun.exe\" scenario=install scenariosubtype=ARP sourcetype=None productstoremove=OneNoteFreeRetail.16_en-us_x-none culture=en-us version.16=16.0'),\n",
       " InstalledApplication(name='Microsoft Visual C++ 2010  x64 Redistributable - 10.0.40219', version='10.0.40219', install_date=datetime.date(2022, 2, 17), install_location='', install_source=WindowsPath('c:/c70090f9b6cf41884b730796fc03eaad'), modify_path='MsiExec.exe /X{1D8E6291-B0D5-35EC-8441-6616F567A0F7}', publisher='Microsoft Corporation', uninstall_string='MsiExec.exe /X{1D8E6291-B0D5-35EC-8441-6616F567A0F7}'),\n",
       " InstalledApplication(name='Dell Update for Windows 10', version='4.3.0', install_date=datetime.date(2022, 2, 17), install_location=WindowsPath('C:/Program Files/Dell/Update'), install_source=WindowsPath('C:/Windows/{427AB09C-B3AD-4EB7-9D73-6D584684FE91}'), modify_path='MsiExec.exe /X{41D2D254-D869-4CD8-B440-5DF49083C4BA}', publisher='Dell Inc.', uninstall_string='MsiExec.exe /X{41D2D254-D869-4CD8-B440-5DF49083C4BA}'),\n",
       " InstalledApplication(name='Microsoft Update Health Tools', version='4.67.0.0', install_date=datetime.date(2022, 5, 20), install_location='', install_source=WindowsPath('C:/Windows/TEMP/80E9A497-B6ED-4EC3-9490-5FC1BD5C10BF'), modify_path='MsiExec.exe /X{6A2A8076-135F-4F55-BB02-DED67C8C6934}', publisher='Microsoft Corporation', uninstall_string='MsiExec.exe /X{6A2A8076-135F-4F55-BB02-DED67C8C6934}'),\n",
       " InstalledApplication(name='Dell Mobile Connect Driver', version='4.1.7498', install_date=datetime.date(2022, 2, 17), install_location=WindowsPath('C:/Program Files/Dell/DellMobileConnectDriver'), install_source=WindowsPath('C:/Users/Administrator/AppData/Local/Downloaded Installations/{20BDF350-310F-496A-B039-E3785D74D0A1}'), modify_path='MsiExec.exe /X{6F9CB82D-BC34-4FC1-B90D-AFFAC5C85E7B}', publisher='Screenovate Technologies Ltd.', uninstall_string='MsiExec.exe /X{6F9CB82D-BC34-4FC1-B90D-AFFAC5C85E7B}'),\n",
       " InstalledApplication(name='NVIDIA Graphics Driver 466.85', version='466.85', install_date=datetime.date(2022, 2, 17), install_location=WindowsPath('C:/Program Files/NVIDIA Corporation/Installer2/Display.Driver.{E3517C8F-F339-4E5A-A991-F3B69101C094}'), install_source=WindowsPath('C:/Program Files/NVIDIA Corporation/Installer2/Display.Driver.{E3517C8F-F339-4E5A-A991-F3B69101C094}'), modify_path='', publisher='NVIDIA Corporation', uninstall_string='\"C:\\\\Windows\\\\SysWOW64\\\\RunDll32.EXE\" \"C:\\\\Program Files\\\\NVIDIA Corporation\\\\Installer2\\\\InstallerCore\\\\NVI2.DLL\",UninstallPackage Display.Driver'),\n",
       " InstalledApplication(name='NVIDIA GeForce Experience 3.21.0.36', version='3.21.0.36', install_date=datetime.date(2022, 2, 17), install_location=WindowsPath('C:/Program Files/NVIDIA Corporation/Installer2/Display.GFExperience.{3C5D3D85-ACAC-43C5-A5C2-63E41D51CBDF}'), install_source=WindowsPath('C:/Program Files/NVIDIA Corporation/Installer2/Display.GFExperience.{3C5D3D85-ACAC-43C5-A5C2-63E41D51CBDF}'), modify_path='', publisher='NVIDIA Corporation', uninstall_string='\"C:\\\\Windows\\\\SysWOW64\\\\RunDll32.EXE\" \"C:\\\\Program Files\\\\NVIDIA Corporation\\\\Installer2\\\\InstallerCore\\\\NVI2.DLL\",UninstallPackage Display.GFExperience'),\n",
       " InstalledApplication(name='NVIDIA PhysX System Software 9.20.0221', version='9.20.0221', install_date=datetime.date(2022, 2, 17), install_location=WindowsPath('C:/Program Files (x86)/NVIDIA Corporation/PhysX'), install_source=WindowsPath('C:/Program Files/NVIDIA Corporation/Installer2/Display.PhysX.{88681AC6-8CF7-480E-9CD7-7254BD0E841D}'), modify_path='', publisher='NVIDIA Corporation', uninstall_string='\"C:\\\\Windows\\\\SysWOW64\\\\RunDll32.EXE\" \"C:\\\\Program Files\\\\NVIDIA Corporation\\\\Installer2\\\\InstallerCore\\\\NVI2.DLL\",UninstallPackage Display.PhysX'),\n",
       " InstalledApplication(name='NVIDIA FrameView SDK 1.1.4923.29548709', version='1.1.4923.29548709', install_date=datetime.date(2022, 2, 17), install_location=WindowsPath('C:/Program Files/NVIDIA Corporation/FrameViewSDK'), install_source=WindowsPath('C:/Program Files/NVIDIA Corporation/Installer2/FrameViewSdk.{307493F5-EB22-46F5-ADC2-364D6FAAF9E6}'), modify_path='', publisher='NVIDIA Corporation', uninstall_string='\"C:\\\\Windows\\\\SysWOW64\\\\RunDll32.EXE\" \"C:\\\\Program Files\\\\NVIDIA Corporation\\\\Installer2\\\\InstallerCore\\\\NVI2.DLL\",UninstallPackage FrameViewSdk'),\n",
       " InstalledApplication(name='NVIDIA HD Audio Driver 1.3.38.60', version='1.3.38.60', install_date=datetime.date(2022, 2, 17), install_location=WindowsPath('C:/Program Files/NVIDIA Corporation/Installer2/HDAudio.Driver.{89E84883-4ADA-483A-B50E-85EE61483C3E}'), install_source=WindowsPath('C:/Program Files/NVIDIA Corporation/Installer2/HDAudio.Driver.{89E84883-4ADA-483A-B50E-85EE61483C3E}'), modify_path='', publisher='NVIDIA Corporation', uninstall_string='\"C:\\\\Windows\\\\SysWOW64\\\\RunDll32.EXE\" \"C:\\\\Program Files\\\\NVIDIA Corporation\\\\Installer2\\\\InstallerCore\\\\NVI2.DLL\",UninstallPackage HDAudio.Driver'),\n",
       " InstalledApplication(name='Dell SupportAssist', version='3.10.4.18', install_date=datetime.date(2022, 5, 19), install_location=WindowsPath('C:/Program Files/Dell/SupportAssistAgent'), install_source=WindowsPath('C:/Windows/TEMP/SupportAssistAgent/AutoUpdate'), modify_path='MsiExec.exe /X{E0659C89-D276-4B77-A5EC-A8F2F042E78F}', publisher='Dell Inc.', uninstall_string='MsiExec.exe /X{E0659C89-D276-4B77-A5EC-A8F2F042E78F}'),\n",
       " InstalledApplication(name='Google Chrome', version='102.0.5005.63', install_date=datetime.date(2022, 6, 1), install_location=WindowsPath('C:/Program Files/Google/Chrome/Application'), install_source=None, modify_path=None, publisher='Google LLC', uninstall_string='\"C:\\\\Program Files\\\\Google\\\\Chrome\\\\Application\\\\102.0.5005.63\\\\Installer\\\\setup.exe\" --uninstall --channel=stable --system-level --verbose-logging'),\n",
       " InstalledApplication(name='Microsoft Edge', version='102.0.1245.30', install_date=datetime.date(2022, 6, 4), install_location=WindowsPath('C:/Program Files (x86)/Microsoft/Edge/Application'), install_source=None, modify_path='\"C:\\\\Program Files (x86)\\\\Microsoft\\\\EdgeUpdate\\\\MicrosoftEdgeUpdate.exe\" /install appguid={56EB18F8-B008-4CBD-B6D2-8C97FE7E9062}&appname=Microsoft%20Edge&needsadmin=true&repairtype=windowsonlinerepair /installsource windows', publisher='Microsoft Corporation', uninstall_string='\"C:\\\\Program Files (x86)\\\\Microsoft\\\\Edge\\\\Application\\\\102.0.1245.30\\\\Installer\\\\setup.exe\" --uninstall --msedge --channel=stable --system-level --verbose-logging'),\n",
       " InstalledApplication(name='Microsoft Edge Update', version='1.3.161.35', install_date=None, install_location=None, install_source=None, modify_path=None, publisher=None, uninstall_string=None),\n",
       " InstalledApplication(name='Microsoft Edge WebView2 Runtime', version='102.0.1245.33', install_date=datetime.date(2022, 6, 4), install_location=WindowsPath('C:/Program Files (x86)/Microsoft/EdgeWebView/Application'), install_source=None, modify_path='\"C:\\\\Program Files (x86)\\\\Microsoft\\\\EdgeUpdate\\\\MicrosoftEdgeUpdate.exe\" /install appguid={F3017226-FE2A-4295-8BDF-00C3A9A7E4C5}&appname=Microsoft%20Edge%20WebView&needsadmin=true&repairtype=windowsonlinerepair /installsource windows', publisher='Microsoft Corporation', uninstall_string='\"C:\\\\Program Files (x86)\\\\Microsoft\\\\EdgeWebView\\\\Application\\\\102.0.1245.33\\\\Installer\\\\setup.exe\" --uninstall --msedgewebview --system-level --verbose-logging'),\n",
       " InstalledApplication(name='McAfee AntiVirus', version='16.0 R45', install_date=None, install_location=WindowsPath('C:/Program Files/McAfee'), install_source=None, modify_path=None, publisher='McAfee, LLC', uninstall_string='C:\\\\Program Files\\\\McAfee\\\\MSC\\\\mcuihost.exe /body:misp://MSCJsRes.dll::uninstall.html /id:uninstall'),\n",
       " InstalledApplication(name='PyCharm Community Edition 2022.1.1', version='221.5591.52', install_date=None, install_location=WindowsPath('C:/Program Files/JetBrains/PyCharm Community Edition 2022.1.1'), install_source=None, modify_path=None, publisher='JetBrains s.r.o.', uninstall_string='C:\\\\Program Files\\\\JetBrains\\\\PyCharm Community Edition 2022.1.1\\\\bin\\\\Uninstall.exe'),\n",
       " InstalledApplication(name='Microsoft Visual C++ 2015-2019 Redistributable (x86) - 14.28.29914', version='14.28.29914.0', install_date=None, install_location=None, install_source=None, modify_path='\"C:\\\\ProgramData\\\\Package Cache\\\\{1b5476d9-ab8e-4b0d-b004-059a1bd5568b}\\\\VC_redist.x86.exe\" /modify', publisher='Microsoft Corporation', uninstall_string='\"C:\\\\ProgramData\\\\Package Cache\\\\{1b5476d9-ab8e-4b0d-b004-059a1bd5568b}\\\\VC_redist.x86.exe\"  /uninstall'),\n",
       " InstalledApplication(name='Lightshot-5.5.0.7', version='5.5.0.7', install_date=datetime.date(2022, 5, 20), install_location=WindowsPath('C:/Program Files (x86)/Skillbrains/lightshot'), install_source=None, modify_path=None, publisher='Skillbrains', uninstall_string='\"C:\\\\Program Files (x86)\\\\Skillbrains\\\\lightshot\\\\unins000.exe\"'),\n",
       " InstalledApplication(name='WebAdvisor by McAfee', version='4.1.1.707', install_date=None, install_location=WindowsPath('C:/Program Files/McAfee/WebAdvisor'), install_source=None, modify_path=None, publisher='McAfee, LLC', uninstall_string='C:\\\\Program Files\\\\McAfee\\\\WebAdvisor\\\\Uninstaller.exe'),\n",
       " InstalledApplication(name='Microsoft Visual C++ 2015-2019 Redistributable (x64) - 14.28.29914', version='14.28.29914.0', install_date=None, install_location=None, install_source=None, modify_path='\"C:\\\\ProgramData\\\\Package Cache\\\\{43d1ce82-6f55-4860-a938-20e5deb28b98}\\\\VC_redist.x64.exe\" /modify', publisher='Microsoft Corporation', uninstall_string='\"C:\\\\ProgramData\\\\Package Cache\\\\{43d1ce82-6f55-4860-a938-20e5deb28b98}\\\\VC_redist.x64.exe\"  /uninstall'),\n",
       " InstalledApplication(name='Dell Digital Delivery Services', version='4.0.92.0', install_date=datetime.date(2022, 2, 17), install_location=WindowsPath('c:/Program Files (x86)/Dell Digital Delivery Services'), install_source=None, modify_path='MsiExec.exe /X{560DFD4A-23E2-45DD-A223-A4B3FA356913}', publisher='Dell Inc.', uninstall_string='MsiExec.exe /X{560DFD4A-23E2-45DD-A223-A4B3FA356913}'),\n",
       " InstalledApplication(name='Fusion Service', version='1.92.26.0', install_date=None, install_location=None, install_source=None, modify_path='\"C:\\\\ProgramData\\\\Package Cache\\\\{580b5360-6b58-45f3-b14a-b250a08df4fa}\\\\FusionService.exe\" /modify', publisher='Dell.Inc', uninstall_string='\"C:\\\\ProgramData\\\\Package Cache\\\\{580b5360-6b58-45f3-b14a-b250a08df4fa}\\\\FusionService.exe\"  /uninstall'),\n",
       " InstalledApplication(name='pCloud Drive', version='3.11.11.0', install_date=None, install_location=None, install_source=None, modify_path='\"C:\\\\ProgramData\\\\Package Cache\\\\{5f47c6ec-0d76-4c75-b216-479fd39aff45}\\\\pCloud Drive.exe\" /modify', publisher='pCloud AG', uninstall_string='\"C:\\\\ProgramData\\\\Package Cache\\\\{5f47c6ec-0d76-4c75-b216-479fd39aff45}\\\\pCloud Drive.exe\"  /uninstall'),\n",
       " InstalledApplication(name='Dell SupportAssist Remediation', version='5.5.2.16157', install_date=None, install_location=None, install_source=None, modify_path='\"C:\\\\ProgramData\\\\Package Cache\\\\{85c0b416-3065-407c-9fd8-a1e41780153a}\\\\DellSupportAssistRemediationServiceInstaller.exe\" /modify', publisher='Dell Inc.', uninstall_string='\"C:\\\\ProgramData\\\\Package Cache\\\\{85c0b416-3065-407c-9fd8-a1e41780153a}\\\\DellSupportAssistRemediationServiceInstaller.exe\"  /uninstall'),\n",
       " InstalledApplication(name='Microsoft .NET Runtime - 5.0.17 (x64)', version='5.0.17.31213', install_date=None, install_location=None, install_source=None, modify_path='\"C:\\\\ProgramData\\\\Package Cache\\\\{a699b48e-5748-4980-ad92-0b61b1d9d718}\\\\dotnet-runtime-5.0.17-win-x64.exe\" /modify', publisher='Microsoft Corporation', uninstall_string='\"C:\\\\ProgramData\\\\Package Cache\\\\{a699b48e-5748-4980-ad92-0b61b1d9d718}\\\\dotnet-runtime-5.0.17-win-x64.exe\"  /uninstall'),\n",
       " InstalledApplication(name='Alienware Command Center Package Manager', version='5.5.0.0', install_date=None, install_location=None, install_source=None, modify_path='\"C:\\\\Program Files (x86)\\\\InstallShield Installation Information\\\\{D2DA930B-CB5D-4DD6-BF62-BE6C310A353D}\\\\AWCCInstallationManager.exe\" -modify -runfromtemp', publisher='Dell Inc.', uninstall_string='\"C:\\\\Program Files (x86)\\\\InstallShield Installation Information\\\\{D2DA930B-CB5D-4DD6-BF62-BE6C310A353D}\\\\AWCCInstallationManager.exe\" -remove -runfromtemp'),\n",
       " InstalledApplication(name='Dell SupportAssist OS Recovery Plugin for Dell Update', version='5.4.1.14954', install_date=None, install_location=None, install_source=None, modify_path='\"C:\\\\ProgramData\\\\Package Cache\\\\{ec40a028-983b-4213-af2c-77ed6f6fe1d5}\\\\DellUpdateSupportAssistPlugin.exe\" /modify', publisher='Dell Inc.', uninstall_string='\"C:\\\\ProgramData\\\\Package Cache\\\\{ec40a028-983b-4213-af2c-77ed6f6fe1d5}\\\\DellUpdateSupportAssistPlugin.exe\"  /uninstall'),\n",
       " InstalledApplication(name='Realtek Audio Driver', version='6.0.9180.1', install_date=datetime.date(2022, 2, 17), install_location=WindowsPath('C:/Program Files (x86)/Realtek/Audio/Drivers'), install_source=WindowsPath('c:/dell/PRY9W/0/Drivers'), modify_path='\"C:\\\\Program Files (x86)\\\\InstallShield Installation Information\\\\{F132AF7F-7BCA-4EDE-8A7C-958108FE7DBC}\\\\Setup.exe\" -runfromtemp ', publisher='Realtek Semiconductor Corp.', uninstall_string='\"C:\\\\Program Files (x86)\\\\InstallShield Installation Information\\\\{F132AF7F-7BCA-4EDE-8A7C-958108FE7DBC}\\\\Setup.exe\" -runfromtemp  -removeonly')]"
      ]
     },
     "execution_count": 6,
     "metadata": {},
     "output_type": "execute_result"
    }
   ],
   "source": [
    "import winapps\n",
    "list(winapps.list_installed())"
   ]
  },
  {
   "cell_type": "code",
   "execution_count": 7,
   "id": "3c6b87d7",
   "metadata": {},
   "outputs": [
    {
     "data": {
      "text/plain": [
       "5"
      ]
     },
     "execution_count": 7,
     "metadata": {},
     "output_type": "execute_result"
    }
   ],
   "source": [
    "s=\"Jimmy\"\n",
    "len(s)"
   ]
  },
  {
   "cell_type": "code",
   "execution_count": 8,
   "id": "0de8c343",
   "metadata": {},
   "outputs": [],
   "source": [
    "def str_len(s):\n",
    "    count=0\n",
    "    for i in s:\n",
    "        count=count+1\n",
    "    return count"
   ]
  },
  {
   "cell_type": "code",
   "execution_count": 9,
   "id": "e220be06",
   "metadata": {},
   "outputs": [
    {
     "data": {
      "text/plain": [
       "17"
      ]
     },
     "execution_count": 9,
     "metadata": {},
     "output_type": "execute_result"
    }
   ],
   "source": [
    "str_len(\"fhsdfhsduifhsdiuf\")"
   ]
  },
  {
   "cell_type": "code",
   "execution_count": 10,
   "id": "ba669c66",
   "metadata": {},
   "outputs": [],
   "source": [
    "def print_prim(l):\n",
    "    for i in range(len(l)):\n",
    "        print(i)"
   ]
  },
  {
   "cell_type": "code",
   "execution_count": 12,
   "id": "6c7820bd",
   "metadata": {},
   "outputs": [
    {
     "name": "stdout",
     "output_type": "stream",
     "text": [
      "0\n"
     ]
    }
   ],
   "source": [
    "print_prim([123])"
   ]
  },
  {
   "cell_type": "code",
   "execution_count": 13,
   "id": "ea18bab1",
   "metadata": {},
   "outputs": [],
   "source": [
    "d={'k1':\"Value\",'k2':\"values\",'k3':{'k12':\"Jimmy\",'k13':\"Vyas\"}}"
   ]
  },
  {
   "cell_type": "code",
   "execution_count": 20,
   "id": "0895b20c",
   "metadata": {},
   "outputs": [
    {
     "data": {
      "text/plain": [
       "{'k1': 'Value', 'k2': 'values', 'k3': {'k12': 'Jimmy', 'k13': 'Vyas'}}"
      ]
     },
     "execution_count": 20,
     "metadata": {},
     "output_type": "execute_result"
    }
   ],
   "source": [
    "d"
   ]
  },
  {
   "cell_type": "code",
   "execution_count": 25,
   "id": "a9be58f3",
   "metadata": {},
   "outputs": [],
   "source": [
    "def dic_to_list(d):\n",
    "    l=[]\n",
    "    for i in d.values():\n",
    "        if type(i)!=dict:\n",
    "            l.append(i)\n",
    "        if type(i)==dict:\n",
    "            for j in i.values():\n",
    "                l.append(j)\n",
    "    return l"
   ]
  },
  {
   "cell_type": "code",
   "execution_count": 26,
   "id": "5aa98ad4",
   "metadata": {},
   "outputs": [
    {
     "data": {
      "text/plain": [
       "['Value', 'values', 'Jimmy', 'Vyas']"
      ]
     },
     "execution_count": 26,
     "metadata": {},
     "output_type": "execute_result"
    }
   ],
   "source": [
    "dic_to_list(d)"
   ]
  },
  {
   "cell_type": "code",
   "execution_count": 28,
   "id": "1fe459a1",
   "metadata": {},
   "outputs": [
    {
     "name": "stdout",
     "output_type": "stream",
     "text": [
      "Collecting opencv-python\n",
      "  Downloading opencv_python-4.5.5.64-cp36-abi3-win_amd64.whl (35.4 MB)\n",
      "Requirement already satisfied: numpy>=1.14.5 in c:\\users\\jaymil\\anaconda3\\lib\\site-packages (from opencv-python) (1.21.5)\n",
      "Installing collected packages: opencv-python\n",
      "Successfully installed opencv-python-4.5.5.64\n"
     ]
    }
   ],
   "source": [
    "!pip install opencv-python"
   ]
  },
  {
   "cell_type": "code",
   "execution_count": 1,
   "id": "4f0912b2",
   "metadata": {},
   "outputs": [],
   "source": [
    "import cv2\n",
    "def read_image():\n",
    "    a=cv2.imread('C:/Users/Jaymil/Desktop/IMG_7513.jpg')\n",
    "    cv2.imshow(\"IMG_7513\",a)\n",
    "    cv2.waitkey(500)\n",
    "    cv2.destroyWindow('IMG_7513')"
   ]
  },
  {
   "cell_type": "code",
   "execution_count": 2,
   "id": "73bb3a77",
   "metadata": {},
   "outputs": [
    {
     "ename": "AttributeError",
     "evalue": "module 'cv2' has no attribute 'waitkey'",
     "output_type": "error",
     "traceback": [
      "\u001b[1;31m---------------------------------------------------------------------------\u001b[0m",
      "\u001b[1;31mAttributeError\u001b[0m                            Traceback (most recent call last)",
      "Input \u001b[1;32mIn [2]\u001b[0m, in \u001b[0;36m<cell line: 1>\u001b[1;34m()\u001b[0m\n\u001b[1;32m----> 1\u001b[0m \u001b[43mread_image\u001b[49m\u001b[43m(\u001b[49m\u001b[43m)\u001b[49m\n",
      "Input \u001b[1;32mIn [1]\u001b[0m, in \u001b[0;36mread_image\u001b[1;34m()\u001b[0m\n\u001b[0;32m      3\u001b[0m a\u001b[38;5;241m=\u001b[39mcv2\u001b[38;5;241m.\u001b[39mimread(\u001b[38;5;124m'\u001b[39m\u001b[38;5;124mC:/Users/Jaymil/Desktop/IMG_7513.jpg\u001b[39m\u001b[38;5;124m'\u001b[39m)\n\u001b[0;32m      4\u001b[0m cv2\u001b[38;5;241m.\u001b[39mimshow(\u001b[38;5;124m\"\u001b[39m\u001b[38;5;124mIMG_7513\u001b[39m\u001b[38;5;124m\"\u001b[39m,a)\n\u001b[1;32m----> 5\u001b[0m \u001b[43mcv2\u001b[49m\u001b[38;5;241;43m.\u001b[39;49m\u001b[43mwaitkey\u001b[49m(\u001b[38;5;241m500\u001b[39m)\n\u001b[0;32m      6\u001b[0m cv2\u001b[38;5;241m.\u001b[39mdestroyWindow(\u001b[38;5;124m'\u001b[39m\u001b[38;5;124mIMG_7513\u001b[39m\u001b[38;5;124m'\u001b[39m)\n",
      "\u001b[1;31mAttributeError\u001b[0m: module 'cv2' has no attribute 'waitkey'"
     ]
    }
   ],
   "source": [
    "read_image()"
   ]
  },
  {
   "cell_type": "code",
   "execution_count": null,
   "id": "0055dfae",
   "metadata": {},
   "outputs": [],
   "source": []
  }
 ],
 "metadata": {
  "kernelspec": {
   "display_name": "Python 3 (ipykernel)",
   "language": "python",
   "name": "python3"
  },
  "language_info": {
   "codemirror_mode": {
    "name": "ipython",
    "version": 3
   },
   "file_extension": ".py",
   "mimetype": "text/x-python",
   "name": "python",
   "nbconvert_exporter": "python",
   "pygments_lexer": "ipython3",
   "version": "3.9.12"
  }
 },
 "nbformat": 4,
 "nbformat_minor": 5
}
